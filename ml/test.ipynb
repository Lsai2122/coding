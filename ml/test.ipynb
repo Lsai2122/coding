{
 "cells": [
  {
   "cell_type": "code",
   "execution_count": 8,
   "metadata": {},
   "outputs": [
    {
     "name": "stdout",
     "output_type": "stream",
     "text": [
      "Training Data (After Mean Encoding):\n",
      "       Color      Size\n",
      "5  0.521935  0.514889\n",
      "2  0.656740  0.652043\n",
      "4  0.585815  0.514889\n",
      "3  0.585815  0.656740\n",
      "6  0.656740  0.656740\n",
      "\n",
      "Test Data (After Mean Encoding):\n",
      "       Color      Size\n",
      "0  0.585815  0.514889\n",
      "1  0.521935  0.656740\n"
     ]
    }
   ],
   "source": [
    "import pandas as pd\n",
    "from sklearn.model_selection import train_test_split\n",
    "import category_encoders as ce\n",
    "\n",
    "# Generate a dummy dataset with categorical variables\n",
    "data = {\n",
    "    'Color': ['Red', 'Blue', 'Green', 'Red', 'Red', 'Blue', 'Green'],\n",
    "    'Size': ['Small', 'Medium', 'Large', 'Medium', 'Small', 'Small', 'Medium'],\n",
    "    'Label': [1, 0, 1, 1, 0, 0, 1]\n",
    "}\n",
    "\n",
    "df = pd.DataFrame(data)\n",
    "\n",
    "# Split the data into training and test sets\n",
    "train_df, test_df = train_test_split(df, test_size=0.2, random_state=42)\n",
    "\n",
    "# Initialize the MeanEncoder\n",
    "mean_encoder = ce.TargetEncoder()\n",
    "\n",
    "# Fit the encoder on the training data\n",
    "mean_encoder.fit(train_df[['Color', 'Size']], train_df['Label'])\n",
    "\n",
    "# Transform both the training and test datasets\n",
    "train_encoded = mean_encoder.transform(train_df[['Color', 'Size']])\n",
    "test_encoded = mean_encoder.transform(test_df[['Color', 'Size']])\n",
    "\n",
    "# Display the encoded datasets\n",
    "print(\"Training Data (After Mean Encoding):\\n\", train_encoded)\n",
    "print(\"\\nTest Data (After Mean Encoding):\\n\", test_encoded)"
   ]
  },
  {
   "cell_type": "code",
   "execution_count": 9,
   "metadata": {},
   "outputs": [
    {
     "name": "stdout",
     "output_type": "stream",
     "text": [
      "Training Data (After Count Encoding):\n",
      "       Color      Size\n",
      "5  0.521935  0.514889\n",
      "2  0.656740  0.652043\n",
      "4  0.585815  0.514889\n",
      "3  0.585815  0.656740\n",
      "6  0.656740  0.656740 \n",
      "    Color    Size  Label\n",
      "5   Blue   Small      0\n",
      "2  Green   Large      1\n",
      "4    Red   Small      0\n",
      "3    Red  Medium      1\n",
      "6  Green  Medium      1\n",
      "\n",
      "Test Data (After Count Encoding):\n",
      "       Color      Size\n",
      "0  0.585815  0.514889\n",
      "1  0.521935  0.656740 \n",
      "   Color    Size  Label\n",
      "0   Red   Small      1\n",
      "1  Blue  Medium      0\n"
     ]
    }
   ],
   "source": [
    "print(\"Training Data (After Count Encoding):\\n\", train_encoded,\"\\n\",train_df)\n",
    "print(\"\\nTest Data (After Count Encoding):\\n\", test_encoded,\"\\n\",test_df)"
   ]
  },
  {
   "cell_type": "code",
   "execution_count": null,
   "metadata": {},
   "outputs": [],
   "source": []
  }
 ],
 "metadata": {
  "kernelspec": {
   "display_name": "base",
   "language": "python",
   "name": "python3"
  },
  "language_info": {
   "codemirror_mode": {
    "name": "ipython",
    "version": 3
   },
   "file_extension": ".py",
   "mimetype": "text/x-python",
   "name": "python",
   "nbconvert_exporter": "python",
   "pygments_lexer": "ipython3",
   "version": "3.12.7"
  }
 },
 "nbformat": 4,
 "nbformat_minor": 2
}
