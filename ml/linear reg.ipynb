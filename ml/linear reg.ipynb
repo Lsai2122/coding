{
 "cells": [
  {
   "cell_type": "code",
   "execution_count": 1,
   "metadata": {},
   "outputs": [],
   "source": [
    "import pandas as pd\n",
    "import numpy as np"
   ]
  },
  {
   "cell_type": "code",
   "execution_count": null,
   "metadata": {},
   "outputs": [],
   "source": [
    "class linear_reg:\n",
    "    def __init__(self , iter=1000 , lr=1e-5 , thre=1e-6):\n",
    "        self.iter = iter\n",
    "        self.lr = lr\n",
    "        self.thre = thre\n",
    "    \n",
    "    def fit(self , x, y):\n",
    "        self.x = x\n",
    "        self.y = y\n",
    "        self.items , self.features = x.shape\n",
    "        self.weights = np.zeros(self.features)\n",
    "        self.bias = 0\n",
    "        \n",
    "        for _ in range(self.iter):\n",
    "            self.modify_weights()\n",
    "    \n",
    "    def predict(self , x):\n",
    "        preds = np.dot(x,self.weights)+self.bias\n",
    "        return preds\n",
    "    \n",
    "    def modify_weights(self):\n",
    "        preds = np.dot(self.x,self.weights)+self.bias\n",
    "        dw = (1 / self.items) * np.dot(self.x.T,(self.y-preds))\n",
    "        db = (1 / self.items) * np.sum((self.y - self.preds))\n",
    "        self.weights = self.weights + (self.lr * dw)\n",
    "        self.bias = self.bias + (self.lr * db)"
   ]
  }
 ],
 "metadata": {
  "kernelspec": {
   "display_name": "base",
   "language": "python",
   "name": "python3"
  },
  "language_info": {
   "codemirror_mode": {
    "name": "ipython",
    "version": 3
   },
   "file_extension": ".py",
   "mimetype": "text/x-python",
   "name": "python",
   "nbconvert_exporter": "python",
   "pygments_lexer": "ipython3",
   "version": "3.12.4"
  }
 },
 "nbformat": 4,
 "nbformat_minor": 2
}
